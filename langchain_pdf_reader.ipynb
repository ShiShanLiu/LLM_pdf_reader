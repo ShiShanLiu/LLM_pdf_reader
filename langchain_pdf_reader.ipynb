{
  "cells": [
    {
      "cell_type": "markdown",
      "metadata": {
        "id": "UBr3TcnHLc3K"
      },
      "source": [
        "# LLM Pdf Reader\n",
        "- [教學1](https://ithelp.ithome.com.tw/articles/10338349)\n",
        "- [教學2](https://edge.aif.tw/express-langchain-chatpdf/)\n",
        "\n",
        "- 參考以上兩個文章，並且稍微修改程式碼來免費讓LLM閱讀pdf的實作。\n",
        "- 先安裝requirement.txt檔案內的套件。\n",
        "- 我們會使用Groq提供的*llama3-70b-8192*模型，並且使用HuggingFace上的*sentence-transformers/all-MiniLM-L6-v2*模型來進行embedding，最後，使用*Chroma*來用vector db來儲存pdf text embeddings，作為LLM的回答參考依據。"
      ]
    },
    {
      "cell_type": "code",
      "execution_count": null,
      "metadata": {},
      "outputs": [],
      "source": [
        "import os\n",
        "from langchain.document_loaders import TextLoader, PyPDFLoader\n",
        "from langchain.text_splitter import  RecursiveCharacterTextSplitter\n",
        "from langchain.vectorstores import Chroma\n",
        "from langchain_groq import ChatGroq\n",
        "from langchain.chains import ConversationalRetrievalChain\n",
        "from langchain.embeddings import HuggingFaceEmbeddings"
      ]
    },
    {
      "cell_type": "code",
      "execution_count": 1,
      "metadata": {
        "id": "HP26JjVfOwWL"
      },
      "outputs": [],
      "source": [
        "# 輸入groq的api，並且設為環境變數\n",
        "api_path = \"groq的api\"\n",
        "with open(api_path, \"r\") as f:\n",
        "  api_key = f.read()\n",
        "os.environ[\"GROQ_API_KEY\"] = api_key"
      ]
    },
    {
      "cell_type": "code",
      "execution_count": 5,
      "metadata": {
        "id": "wHkEQwB6PZm9"
      },
      "outputs": [],
      "source": [
        "# 從HF上下載Embedding模型\n",
        "model_name = \"sentence-transformers/all-MiniLM-L6-v2\"\n",
        "model_kwargs = {'device': 'cpu'}\n",
        "embedding = HuggingFaceEmbeddings(model_name=model_name,model_kwargs=model_kwargs)"
      ]
    },
    {
      "cell_type": "code",
      "execution_count": 6,
      "metadata": {
        "id": "bkeUYMOZWRuB"
      },
      "outputs": [],
      "source": [
        "# 讀取檔案\n",
        "file_path = \"你的pdf檔案.pdf\"\n",
        "loader = file_path.endswith(\".pdf\") and PyPDFLoader(file_path) or TextLoader(file_path)\n",
        "\n",
        "# 選擇 splitter 並將文字切分成多個 chunk\n",
        "splitter = RecursiveCharacterTextSplitter(chunk_size=500, chunk_overlap=0)\n",
        "texts = loader.load_and_split(splitter)"
      ]
    },
    {
      "cell_type": "code",
      "execution_count": 7,
      "metadata": {
        "id": "NA_y-u3p5-Rd"
      },
      "outputs": [],
      "source": [
        "# 建立vector db，並設定retriever\n",
        "'''\n",
        "如果想要呼叫已經存好的vector db的話，可以改用下面這行:\n",
        "vectordb = Chroma(persist_directory=persist_directory, embedding_function=embedding)\n",
        "'''\n",
        "persist_directory = '設定你要的db檔案名稱'\n",
        "vectordb = Chroma.from_documents(documents=texts, embedding=embedding, persist_directory=persist_directory)\n",
        "retriever = vectordb.as_retriever()"
      ]
    },
    {
      "cell_type": "code",
      "execution_count": 8,
      "metadata": {
        "id": "eP9b-CYyb96j"
      },
      "outputs": [],
      "source": [
        "# 使用chat\n",
        "groq_llm = ChatGroq(temperature=0, model=\"llama3-70b-8192\") # 可使用其他Groq支援的模型\n",
        "qa = ConversationalRetrievalChain.from_llm(groq_llm, retriever)\n",
        "chat_history = []"
      ]
    },
    {
      "cell_type": "code",
      "execution_count": null,
      "metadata": {},
      "outputs": [],
      "source": [
        "# 跟LLM對話來快速抓取pdf的重點\n",
        "while (query:= input('Enter query (q to quit) \\n Q:')) != 'q:':\n",
        "    result = qa({\"question\": query + ' (用英文回答)', \"chat_history\": chat_history}) # 可自行修改query\n",
        "    print('A:', result['answer'])\n",
        "    chat_history.append((query, result['answer']))"
      ]
    },
    {
      "cell_type": "markdown",
      "metadata": {},
      "source": [
        "**心得**:\n",
        "1. 目前是使用這個實作來幫助我快速熟悉文獻內容，回答的準確度不錯，LLM理解的內容也大部分都是正確的，所以是個能夠讓你快速理解pdf內容的好工具。\n",
        "2. 唯一美中不足之處是有時LLM可能會裝作不知道內容，但換個方式問又可以得到跟你問題有關的回答，需要旁敲側擊個幾次。不過不是個太大的問題。"
      ]
    }
  ],
  "metadata": {
    "colab": {
      "collapsed_sections": [
        "AgR49_cLOXlv"
      ],
      "provenance": []
    },
    "kernelspec": {
      "display_name": "Python 3",
      "name": "python3"
    },
    "language_info": {
      "name": "python"
    }
  },
  "nbformat": 4,
  "nbformat_minor": 0
}
